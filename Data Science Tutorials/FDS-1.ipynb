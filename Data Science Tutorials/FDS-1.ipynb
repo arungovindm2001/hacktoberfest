{
  "nbformat": 4,
  "nbformat_minor": 0,
  "metadata": {
    "colab": {
      "provenance": [],
      "collapsed_sections": []
    },
    "kernelspec": {
      "name": "python3",
      "display_name": "Python 3"
    },
    "language_info": {
      "name": "python"
    }
  },
  "cells": [
    {
      "cell_type": "markdown",
      "source": [
        "# Practice Labsheet 1\n",
        "\n",
        "> ### Rollno: AM.EN.U4CSE20359\n",
        "> ### Name: Sajay Suresh"
      ],
      "metadata": {
        "id": "VB8Z-a3pGJfU"
      }
    },
    {
      "cell_type": "code",
      "execution_count": null,
      "metadata": {
        "colab": {
          "base_uri": "https://localhost:8080/"
        },
        "id": "XW9NvKrZmZ-Z",
        "outputId": "f148ded9-4f0c-439c-d0ac-6ea2d6097d8a"
      },
      "outputs": [
        {
          "output_type": "stream",
          "name": "stdout",
          "text": [
            "16\n",
            "Not divisible by 7\n"
          ]
        }
      ],
      "source": [
        "# 1.Write a python program to check whether a number is divisible by 7 or not.\n",
        "n=int(input())\n",
        "if (n%7==0):\n",
        "  print(\"Divisible by 7\")\n",
        "else:\n",
        "  print(\"Not divisible by 7\")"
      ]
    },
    {
      "cell_type": "code",
      "source": [
        "# 2.Write  a  python program to  input  marks  of five  subjects  Physics,  Chemistry,  Biology, Mathematics and Computer. \n",
        "# Calculate percentage and grade according to following:\n",
        "p=0\n",
        "for i in range(5):\n",
        "    n=int(input())\n",
        "    if (n>100 or n<0):\n",
        "      print(\"Invalid\")  \n",
        "      break\n",
        "    p=p+n\n",
        "\n",
        "p=(p/500)*100\n",
        "\n",
        "if (p>=90):\n",
        "  print(\"A Grade\")\n",
        "elif (p>=80):\n",
        "  print(\"B Grade\")\n",
        "elif (p>=70):\n",
        "  print(\"C Grade\")\n",
        "elif (p>=60):\n",
        "  print(\"D Grade\")\n",
        "elif (p>=40):\n",
        "  print(\"E Grade\")\n",
        "else:\n",
        "  print(\"F Grade\")"
      ],
      "metadata": {
        "colab": {
          "base_uri": "https://localhost:8080/"
        },
        "id": "mOW_Cciln0ui",
        "outputId": "f020e65a-ca5b-4120-b7cf-c42988591d9d"
      },
      "execution_count": null,
      "outputs": [
        {
          "output_type": "stream",
          "name": "stdout",
          "text": [
            "90\n",
            "85\n",
            "60\n",
            "90\n",
            "80\n",
            "B Grade\n"
          ]
        }
      ]
    },
    {
      "cell_type": "code",
      "source": [
        "# 3.Write a python program to find sum of all even numbers between 1 to n.\n",
        "n=int(input())\n",
        "sum=0\n",
        "for i in range(1,n,2):\n",
        "  sum+=i\n",
        "\n",
        "print(sum)"
      ],
      "metadata": {
        "colab": {
          "base_uri": "https://localhost:8080/"
        },
        "id": "dZOjbrC9Nz8k",
        "outputId": "cef1336a-d8a4-4ac0-fbb6-8549e5c46655"
      },
      "execution_count": null,
      "outputs": [
        {
          "output_type": "stream",
          "name": "stdout",
          "text": [
            "10\n",
            "25\n"
          ]
        }
      ]
    },
    {
      "cell_type": "code",
      "source": [
        "# 4.Write a python program to print multiplication tableof a given number.\n",
        "n=int(input())\n",
        "for i in range(1,11):\n",
        "  print(i,\"x\",n,\"=\",i*n)"
      ],
      "metadata": {
        "colab": {
          "base_uri": "https://localhost:8080/"
        },
        "id": "T41NbhHdOwJA",
        "outputId": "4670f949-d978-43c0-c609-c89d68c038f1"
      },
      "execution_count": null,
      "outputs": [
        {
          "output_type": "stream",
          "name": "stdout",
          "text": [
            "5\n",
            "1 x 5 = 5\n",
            "2 x 5 = 10\n",
            "3 x 5 = 15\n",
            "4 x 5 = 20\n",
            "5 x 5 = 25\n",
            "6 x 5 = 30\n",
            "7 x 5 = 35\n",
            "8 x 5 = 40\n",
            "9 x 5 = 45\n",
            "10 x 5 = 50\n"
          ]
        }
      ]
    },
    {
      "cell_type": "code",
      "source": [
        "# 5.Write a python program to check whether a number is Armstrong number or not.\n",
        "m=int(input())\n",
        "n=m\n",
        "rem=0\n",
        "sum=0\n",
        "while(n!=0):\n",
        "  rem=n%10\n",
        "  sum+= rem**3\n",
        "  n //=10\n",
        "\n",
        "if (m==sum):\n",
        "  print('True')\n",
        "else:\n",
        "  print('False')\n",
        " \n"
      ],
      "metadata": {
        "id": "HtE2muCpPmg_",
        "colab": {
          "base_uri": "https://localhost:8080/"
        },
        "outputId": "aa967dc4-dd72-4065-d1ac-ae189347fbfa"
      },
      "execution_count": null,
      "outputs": [
        {
          "output_type": "stream",
          "name": "stdout",
          "text": [
            "407\n",
            "True\n"
          ]
        }
      ]
    },
    {
      "cell_type": "code",
      "source": [
        "# 6.Write a python program to print Fibonacci series up to n terms.\n",
        "\n",
        "nterms = int(input())\n",
        "n1, n2 = 0, 1\n",
        "count = 0\n",
        "\n",
        "if nterms <= 0:\n",
        "   print(\"error wrong input\")\n",
        "elif nterms == 1:\n",
        "   print(n1)\n",
        "else:\n",
        "   print(\"Fibonacci sequence:\")\n",
        "   while count < nterms:\n",
        "       print(n1)\n",
        "       nth = n1 + n2\n",
        "       n1 = n2\n",
        "       n2 = nth\n",
        "       count += 1"
      ],
      "metadata": {
        "colab": {
          "base_uri": "https://localhost:8080/"
        },
        "id": "9S6I1Mpbm7Ur",
        "outputId": "acaad340-85ea-43da-f896-41a7692754d5"
      },
      "execution_count": null,
      "outputs": [
        {
          "output_type": "stream",
          "name": "stdout",
          "text": [
            "How many terms? 10\n",
            "Fibonacci sequence:\n",
            "0\n",
            "1\n",
            "1\n",
            "2\n",
            "3\n",
            "5\n",
            "8\n",
            "13\n",
            "21\n",
            "34\n"
          ]
        }
      ]
    },
    {
      "cell_type": "code",
      "source": [
        "# 7.Write a python program to solve Quadratic Equation\n",
        "import cmath\n",
        "\n",
        "a = int(input())\n",
        "b = int(input())\n",
        "c = int(input())\n",
        "d = (b**2) - (4*a*c)\n",
        "sol1 = (-b-cmath.sqrt(d))/(2*a)\n",
        "sol2 = (-b+cmath.sqrt(d))/(2*a)\n",
        "\n",
        "print('The solution are {0} and {1}'.format(sol1,sol2))"
      ],
      "metadata": {
        "colab": {
          "base_uri": "https://localhost:8080/"
        },
        "id": "GDNc1Q96nnVA",
        "outputId": "a5d0fc66-5431-469e-a0d3-27c1015fd340"
      },
      "execution_count": null,
      "outputs": [
        {
          "output_type": "stream",
          "name": "stdout",
          "text": [
            "1\n",
            "5\n",
            "6\n",
            "The solution are (-3+0j) and (-2+0j)\n"
          ]
        }
      ]
    }
  ]
}