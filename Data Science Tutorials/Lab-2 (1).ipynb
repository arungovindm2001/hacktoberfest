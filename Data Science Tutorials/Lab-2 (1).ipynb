{
 "cells": [
  {
   "cell_type": "markdown",
   "id": "3975437b",
   "metadata": {},
   "source": [
    "# MUHAMMED AZEEM YOONUS\n",
    "# AM.EN.U4CSE20344"
   ]
  },
  {
   "cell_type": "code",
   "execution_count": 2,
   "id": "e07bfd06",
   "metadata": {},
   "outputs": [],
   "source": [
    "from pandas import read_csv\n",
    "path='meteorite-landings.csv'\n",
    "data=read_csv(path)"
   ]
  },
  {
   "cell_type": "code",
   "execution_count": 10,
   "id": "f7bea478",
   "metadata": {},
   "outputs": [
    {
     "name": "stdout",
     "output_type": "stream",
     "text": [
      "(45716, 10)\n"
     ]
    }
   ],
   "source": [
    "print (data.shape)"
   ]
  },
  {
   "cell_type": "code",
   "execution_count": 8,
   "id": "810cabb8",
   "metadata": {},
   "outputs": [
    {
     "name": "stdout",
     "output_type": "stream",
     "text": [
      "[ 5  6  7  8  9 10 11 12 13 14 15 16 17 18 19 20]\n"
     ]
    }
   ],
   "source": [
    "# Create  a  one-dimensional  array  containing  numbers  between  5  and  20  using  the 'arrange()' function in the NumPy module.\n",
    "import numpy as np\n",
    "\n",
    "arr = np.arange(5, 21)\n",
    "print(arr)\n"
   ]
  },
  {
   "cell_type": "code",
   "execution_count": 6,
   "id": "637d8d76",
   "metadata": {},
   "outputs": [
    {
     "name": "stdout",
     "output_type": "stream",
     "text": [
      "[ 1  5  9 13 17 21]\n",
      "[ 1.  5.  9. 13. 17. 21.]\n"
     ]
    }
   ],
   "source": [
    "# Create  an  array  of  numbers  from1  to  24  such  that  the  difference  between  two consecutive  numbers  is  4.  Create  an  array  of  numbers  from  1  to  24  such  that  the difference between two consecutive numbers is 4 and each item is a float.\n",
    "\n",
    "\n",
    "def main():\n",
    "    # Create an array of numbers from 1 to 24 such that the difference between two consecutive numbers is 4.\n",
    "    arr1 = np.arange(1, 25, 4)\n",
    "    print(arr1)\n",
    "    # Create an array of numbers from 1 to 24 such that the difference between two consecutive numbers is 4 and each item is a float.\n",
    "    arr2 = np.arange(1, 25, 4, dtype=float)\n",
    "    print(arr2)\n",
    "\n",
    "if __name__ == \"__main__\":\n",
    "    main()"
   ]
  },
  {
   "cell_type": "code",
   "execution_count": 7,
   "id": "cd04e69a",
   "metadata": {},
   "outputs": [
    {
     "name": "stdout",
     "output_type": "stream",
     "text": [
      "[11  2 14  7]\n"
     ]
    }
   ],
   "source": [
    "# Create an array containing 4 numbers between 1 to 25.\n",
    "\n",
    "arr = np.random.randint(1, 25, 4)\n",
    "print(arr)"
   ]
  },
  {
   "cell_type": "code",
   "execution_count": 22,
   "id": "de9021d0",
   "metadata": {},
   "outputs": [
    {
     "name": "stdout",
     "output_type": "stream",
     "text": [
      "[ 1  3  5  7  9 11 13 15 17 19]\n"
     ]
    }
   ],
   "source": [
    "# Create  an  array  containing  10  numbers  between  1  and  25  such  that  the  difference between two consecutive numbers is constant.\n",
    "def main():\n",
    "    arr = np.arange(1, 26, 2)\n",
    "    print(arr[:10])\n",
    "\n",
    "if __name__ == \"__main__\":\n",
    "    main()"
   ]
  },
  {
   "cell_type": "code",
   "execution_count": 9,
   "id": "0b911df9",
   "metadata": {},
   "outputs": [
    {
     "name": "stdout",
     "output_type": "stream",
     "text": [
      "[[[94 96 69 74 50]\n",
      "  [65 76 58 80 56]\n",
      "  [83 62 52 76 88]\n",
      "  [55 54 58 65 65]]\n",
      "\n",
      " [[50 60 63 98 92]\n",
      "  [65 50 59 86 76]\n",
      "  [80 52 66 97 92]\n",
      "  [83 54 54 87 60]]]\n"
     ]
    }
   ],
   "source": [
    "# Create a three-dimensional NumPy array containing 40 random integers between 50 and 100\n",
    "def main():\n",
    "    # Create a three-dimensional NumPy array containing 40 random integers between 50 and 100\n",
    "    arr = np.random.randint(50, 100, size=(2, 4, 5))\n",
    "    print(arr)\n",
    "\n",
    "if __name__ == \"__main__\":\n",
    "    main()"
   ]
  },
  {
   "cell_type": "code",
   "execution_count": 10,
   "id": "d6233cd9",
   "metadata": {},
   "outputs": [
    {
     "name": "stdout",
     "output_type": "stream",
     "text": [
      "[ 1  2  3  4  5  6  7  8  9 10 11 12 13 14 15]\n"
     ]
    }
   ],
   "source": [
    "# Create a list of natural numbers from 1 to 15using the list comprehension method. Then convert the list into a NumPy array using the array() function.\n",
    "def main():\n",
    "    # Create a list of natural numbers from 1 to 15 using the list comprehension method.\n",
    "    # Then convert the list into a NumPy array using the array() function.\n",
    "    arr = np.array([i for i in range(1, 16)])\n",
    "    print(arr)\n",
    "\n",
    "if __name__ == \"__main__\":\n",
    "    main()"
   ]
  },
  {
   "cell_type": "code",
   "execution_count": 23,
   "id": "05adf150",
   "metadata": {},
   "outputs": [
    {
     "name": "stdout",
     "output_type": "stream",
     "text": [
      "True\n",
      "True\n",
      "False\n"
     ]
    }
   ],
   "source": [
    "# Create a function to check whether the input lenghts represent the lengths of the side of a triangle.\n",
    "def is_triangle(a, b, c):\n",
    "    if a + b > c and a + c > b and b + c > a:\n",
    "        return True\n",
    "    else:\n",
    "        return False\n",
    "\n",
    "def main():\n",
    "    print(is_triangle(3, 4, 5))\n",
    "    print(is_triangle(1, 1, 1))\n",
    "    print(is_triangle(3, 4, 1))\n",
    "\n",
    "if __name__ == \"__main__\":\n",
    "    main()"
   ]
  },
  {
   "cell_type": "code",
   "execution_count": 19,
   "id": "28599ccb",
   "metadata": {},
   "outputs": [
    {
     "name": "stdout",
     "output_type": "stream",
     "text": [
      "The area of the triangle with sides of length 3 4 5 is 6.0\n"
     ]
    }
   ],
   "source": [
    "# Create a function to calculate the area of a triangle using the Heron's formula.\n",
    "\n",
    "def area_of_triangle_using_heron_formula(a, b, c):\n",
    "    s = (a + b + c) / 2\n",
    "    area = np.sqrt(s * (s - a) * (s - b) * (s - c))\n",
    "    return area\n",
    "\n",
    "def main():\n",
    "    a = 3\n",
    "    b = 4\n",
    "    c = 5\n",
    "    area = area_of_triangle_using_heron_formula(a, b, c)\n",
    "    print(\"The area of the triangle with sides of length\", a, b, c, \"is\", area)\n",
    "\n",
    "if __name__ == \"__main__\":\n",
    "    main()"
   ]
  },
  {
   "cell_type": "code",
   "execution_count": 25,
   "id": "b0baf308",
   "metadata": {},
   "outputs": [
    {
     "name": "stdout",
     "output_type": "stream",
     "text": [
      "3.872983346207417\n",
      "15.066519173319364\n"
     ]
    }
   ],
   "source": [
    "'''\n",
    "Write a program to perform following two tasks:a.Print the square root of numbers in the list.  b.Compute the value of c in the equation c=(√a2+b2).\n",
    "'''\n",
    "\n",
    "def main():\n",
    "    # Create a list of natural numbers from 1 to 15 using the list comprehension method.\n",
    "    # Then convert the list into a NumPy array using the array() function.\n",
    "    arr = np.array([i for i in range(1, 16)])\n",
    "    #print(arr)\n",
    "    # Print the square root of numbers in the list.\n",
    "    print(np.sqrt(arr)[-1])\n",
    "    # Compute the value of c in the equation c=(√a2+b2).\n",
    "    print(np.sqrt(arr**2 + 2)[-1])\n",
    "\n",
    "if __name__ == \"__main__\":\n",
    "    main()"
   ]
  },
  {
   "cell_type": "code",
   "execution_count": 18,
   "id": "f8a0abed",
   "metadata": {},
   "outputs": [
    {
     "name": "stdout",
     "output_type": "stream",
     "text": [
      "[1 2 3 4 5 6 7 8 9]\n",
      "[[1 2 3]\n",
      " [4 5 6]\n",
      " [7 8 9]]\n",
      "[[1, 2, 3], [4, 5, 6], [7, 8, 9]]\n"
     ]
    }
   ],
   "source": [
    "# Write a program to change the dimension of an array (say my_arr =[1, 2, 3, 4, 5, 6, 7, 8, 9]) into a 3 X 3 (3 rows and 3 columns) array and convert this NumPy array into a list.\n",
    "\n",
    "def main():\n",
    "    # Create a list of natural numbers from 1 to 15 using the list comprehension method.\n",
    "    # Then convert the list into a NumPy array using the array() function.\n",
    "    arr = np.array([i for i in range(1, 10)])\n",
    "    print(arr)\n",
    "    # Change the dimension of an array (say my_arr =[1, 2, 3, 4, 5, 6, 7, 8, 9]) into a 3 X 3 (3 rows and 3 columns) array and convert this NumPy array into a list.\n",
    "    arr = arr.reshape(3, 3)\n",
    "    print(arr)\n",
    "    arr = arr.tolist()\n",
    "    print(arr)\n",
    "\n",
    "if __name__ == \"__main__\":\n",
    "    main()"
   ]
  },
  {
   "cell_type": "code",
   "execution_count": null,
   "id": "8664e0e8",
   "metadata": {},
   "outputs": [],
   "source": []
  }
 ],
 "metadata": {
  "kernelspec": {
   "display_name": "Python 3 (ipykernel)",
   "language": "python",
   "name": "python3"
  },
  "language_info": {
   "codemirror_mode": {
    "name": "ipython",
    "version": 3
   },
   "file_extension": ".py",
   "mimetype": "text/x-python",
   "name": "python",
   "nbconvert_exporter": "python",
   "pygments_lexer": "ipython3",
   "version": "3.9.12"
  }
 },
 "nbformat": 4,
 "nbformat_minor": 5
}
